{
 "cells": [
  {
   "cell_type": "markdown",
   "id": "25d7736c-ba17-4aff-b6bb-66eba20fbf4e",
   "metadata": {},
   "source": [
    "# Lab | List, Dict and Set Comprehension"
   ]
  },
  {
   "cell_type": "markdown",
   "id": "7dd3cbde-675a-4b81-92c3-f728846dbe06",
   "metadata": {},
   "source": [
    "## Exercise: Managing Customer Orders Optimized with Comprehension"
   ]
  },
  {
   "cell_type": "markdown",
   "id": "5d500160-2fb7-4777-b5e4-09d45ebaf328",
   "metadata": {},
   "source": [
    "In the previous exercise, you developed a program to manage customer orders and inventory. Now, let's take it a step further and incorporate comprehension into your code.\n",
    "\n",
    "Follow the steps below to complete the exercise:\n",
    "\n",
    "1. Review your code from the previous exercise and identify areas where you can apply comprehension to simplify and streamline your code. \n",
    "\n",
    "    - *Hint: Apply it to initialize inventory, updating the inventory and printing the updated inventory.*\n",
    "    \n",
    "    - For example, in initializing the inventory, we could have:\n",
    "    \n",
    "        ```python\n",
    "        def initialize_inventory(products):\n",
    "            inventory = {product: int(input(f\"Enter the quantity of {product}s available: \")) for product in products}\n",
    "            return inventory\n",
    "\n",
    "        ```\n",
    "<br>\n",
    "    \n",
    "    \n",
    "2. Modify the function get_customer_orders so it prompts the user to enter the number of customer orders and gathers the product names using a loop and user input. Use comprehension.\n",
    "\n",
    "3. Add a new function to calculate the total price of the customer order. For each product in customer_orders, prompt the user to enter the price of that product. Use comprehension to calculate the total price. Note: assume that the user can only have 1 unit of each product.\n",
    "\n",
    "4. Modify the update_inventory function to remove the product from the inventory if its quantity becomes zero after fulfilling the customer orders. Use comprehension to filter out the products with a quantity of zero from the inventory.\n",
    "\n",
    "5. Print the total price of the customer order.\n",
    "\n",
    "Your code should produce output similar to the following:\n",
    "\n",
    "```python\n",
    "Enter the quantity of t-shirts available:  5\n",
    "Enter the quantity of mugs available:  4\n",
    "Enter the quantity of hats available:  3\n",
    "Enter the quantity of books available:  2\n",
    "Enter the quantity of keychains available:  1\n",
    "Enter the number of customer orders:  2\n",
    "Enter the name of a product that a customer wants to order:  hat\n",
    "Enter the name of a product that a customer wants to order:  keychain\n",
    "\n",
    "Order Statistics:\n",
    "Total Products Ordered: 2\n",
    "Percentage of Unique Products Ordered: 40.0\n",
    "\n",
    "Updated Inventory:\n",
    "t-shirt: 5\n",
    "mug: 4\n",
    "hat: 2\n",
    "book: 2\n",
    "Enter the price of keychain:  5\n",
    "Enter the price of hat:  10\n",
    "Total Price: 15.0\n",
    "\n",
    "```\n"
   ]
  },
  {
   "cell_type": "code",
   "execution_count": null,
   "id": "eec763cc-c496-4c7e-9f1a-c4a31a0ccc2f",
   "metadata": {},
   "outputs": [],
   "source": [
    "def initialize_inventory(products):\n",
    "    inventory = {product: int(input(f\"Enter the quantity of {product}s available: \")) for product in products}\n",
    "    return inventory"
   ]
  },
  {
   "cell_type": "code",
   "execution_count": 2,
   "id": "ac075b02-d8fd-4f55-a36e-898a39c3dad1",
   "metadata": {},
   "outputs": [
    {
     "name": "stdin",
     "output_type": "stream",
     "text": [
      "Enter the quantity for t-shirt:  1\n",
      "Enter the quantity for mug:  2\n",
      "Enter the quantity for hat:  3\n",
      "Enter the quantity for book:  4\n",
      "Enter the quantity for keychain:  5\n"
     ]
    },
    {
     "name": "stdout",
     "output_type": "stream",
     "text": [
      "Inventory: {'t-shirt': 1, 'mug': 2, 'hat': 3, 'book': 4, 'keychain': 5}\n"
     ]
    }
   ],
   "source": [
    "#1 \n",
    "products = [\"t-shirt\", \"mug\", \"hat\", \"book\", \"keychain\"]\n",
    "\n",
    "inventory = {product: int(input(f\"Enter the quantity for {product}: \")) for product in products}\n",
    "\n",
    "print(\"Inventory:\", inventory)"
   ]
  },
  {
   "cell_type": "markdown",
   "id": "e751e1a2-ed58-4528-be8a-4b91a04e9e78",
   "metadata": {},
   "source": [
    "#2 \n",
    "Modify the function get_customer_orders so it prompts the user to enter: \n",
    "- the number of customer orders and\n",
    "- gathers the product names using a loop and user input.\n",
    "- Use comprehension."
   ]
  },
  {
   "cell_type": "code",
   "execution_count": 4,
   "id": "0b3f9e50-f226-4427-a951-006524d1697b",
   "metadata": {},
   "outputs": [
    {
     "name": "stdin",
     "output_type": "stream",
     "text": [
      "Enter the number of customer orders:  1\n",
      "Enter product name for order 1:  mug\n"
     ]
    },
    {
     "name": "stdout",
     "output_type": "stream",
     "text": [
      "Customer Orders: ['mug']\n"
     ]
    }
   ],
   "source": [
    "def get_customer_orders():\n",
    "    num_orders = int(input(\"Enter the number of customer orders: \")) #number of orders\n",
    "    \n",
    "    orders = [input(f\"Enter product name for order {i + 1}: \") for i in range(num_orders)] #product name\n",
    "    \n",
    "    return orders\n",
    "\n",
    "customer_orders = get_customer_orders()  # usage?\n",
    "print(\"Customer Orders:\", customer_orders)"
   ]
  },
  {
   "cell_type": "markdown",
   "id": "92433ecb-8ee2-4a05-8bcb-3bf433feb227",
   "metadata": {},
   "source": [
    "# 3 \n",
    "Add a new function to calculate the total price of the customer order. For each product in customer_orders, prompt the user to enter the price of that product. Use comprehension to calculate the total price. Note: assume that the user can only have 1 unit of each product.\n"
   ]
  },
  {
   "cell_type": "code",
   "execution_count": 5,
   "id": "a060c6ee-5393-4cd1-b29e-6f83b3df3752",
   "metadata": {},
   "outputs": [],
   "source": [
    "def calculate_total_price(customer_orders):\n",
    "\n",
    "    prices = [float(input(f\"Enter the price for {product}: \")) for product in customer_orders] #creating list of prices for each\n",
    "    \n",
    "    total_price = sum(prices)\n",
    "    \n",
    "    return total_price"
   ]
  },
  {
   "cell_type": "code",
   "execution_count": null,
   "id": "c559e3be-9fb8-4cc3-a21b-a1f9d0d2de59",
   "metadata": {},
   "outputs": [],
   "source": []
  },
  {
   "cell_type": "markdown",
   "id": "ce2a23d3-cc2f-4d7b-8f6c-b5144bff9244",
   "metadata": {},
   "source": [
    "# 4 \n",
    "Modify the update_inventory function to remove the product from the inventory if its quantity becomes zero after fulfilling the customer orders. Use comprehension to filter out the products with a quantity of zero from the inventory."
   ]
  },
  {
   "cell_type": "code",
   "execution_count": 1,
   "id": "28766b20-2b7e-4cd0-a98b-760450839903",
   "metadata": {},
   "outputs": [],
   "source": [
    "def initialize_inventory(products):\n",
    "    inventory = {product: int(input(f\"Enter the quantity of {product}s available: \")) for product in products}\n",
    "    return inventory"
   ]
  },
  {
   "cell_type": "code",
   "execution_count": null,
   "id": "6051ecb4-f2f4-43bf-b279-4456061b9cd2",
   "metadata": {},
   "outputs": [],
   "source": [
    "# 5 \n",
    "Print the total price of the customer order."
   ]
  },
  {
   "cell_type": "code",
   "execution_count": 6,
   "id": "f42fe9c3-0972-4f9d-8bd1-b1a007657637",
   "metadata": {},
   "outputs": [
    {
     "ename": "NameError",
     "evalue": "name 'total_price' is not defined",
     "output_type": "error",
     "traceback": [
      "\u001b[1;31m---------------------------------------------------------------------------\u001b[0m",
      "\u001b[1;31mNameError\u001b[0m                                 Traceback (most recent call last)",
      "Cell \u001b[1;32mIn[6], line 1\u001b[0m\n\u001b[1;32m----> 1\u001b[0m \u001b[38;5;28mprint\u001b[39m(total_price)\n",
      "\u001b[1;31mNameError\u001b[0m: name 'total_price' is not defined"
     ]
    }
   ],
   "source": [
    "print(total_price)"
   ]
  },
  {
   "cell_type": "code",
   "execution_count": null,
   "id": "d3554778-9adf-4966-9d1d-3c83970686b5",
   "metadata": {},
   "outputs": [],
   "source": []
  }
 ],
 "metadata": {
  "kernelspec": {
   "display_name": "Python 3 (ipykernel)",
   "language": "python",
   "name": "python3"
  },
  "language_info": {
   "codemirror_mode": {
    "name": "ipython",
    "version": 3
   },
   "file_extension": ".py",
   "mimetype": "text/x-python",
   "name": "python",
   "nbconvert_exporter": "python",
   "pygments_lexer": "ipython3",
   "version": "3.12.7"
  }
 },
 "nbformat": 4,
 "nbformat_minor": 5
}
